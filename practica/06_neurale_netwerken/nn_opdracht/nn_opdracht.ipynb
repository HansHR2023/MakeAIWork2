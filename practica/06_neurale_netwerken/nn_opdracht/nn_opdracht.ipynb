{
 "cells": [
  {
   "cell_type": "markdown",
   "id": "6e8523ea-8fbe-4b57-9d7b-f6f3973d7647",
   "metadata": {},
   "source": [
    "Bouw zelf een neural network\n",
    "\n",
    "\n",
    "Stappen voor practicum:\n",
    "    - Training and validatie set maken\n",
    "    - Model bouwen\n",
    "    - Weights initialiseren\n",
    "    - Gradient descent toepassen\n",
    "    - Voorspellen met forward pass\n",
    "    \n",
    "Begin met een directe, intuitieve implementatie met behulp van de zelf te onwerpen\n",
    "klassen Node en Link, de softmax function aan de uitgangs-laag en het back-\n",
    "propagation algorithm, gebruikmakend van willekeurige variaties van de weight factors.\n",
    "Varieer 1 weight factor per leercyclus over de hele trainingset en behoud alleen de\n",
    "wijziging die gemiddeld over deze cyclus het beste scoort. Gebruik de mean squared\n",
    "error als cost function.\n"
   ]
  },
  {
   "cell_type": "markdown",
   "id": "a8d3ba64-5e19-4af4-aee5-e95333b6abf5",
   "metadata": {},
   "source": [
    "- geen hidden layer nodig\n",
    "- geen 3party library gebruiken, dus zonder numpy\n",
    "- 3 x 3 input noteren als list van 9 waarden\n",
    "- 0 is wit en 1 is zwart\n",
    "- output: rondje = 0 en kruisje = 1\n",
    "dus we spreken af: o1 = 1 betekent een rondje\n",
    "en 02 = 1 betekent een kruisje\n",
    "- output realiseren met softmax:\n",
    "\n",
    "<img width=\"20%\" height=\"20%\" src='softmax-function.png'/>\n",
    "\n",
    "the softmax of y_i is simply the exponential divided by the sum of exponential of the whole Y vector:\n",
    "\n",
    "def softmax(x):\n",
    "    \"\"\"Compute softmax values for each sets of scores in x.\"\"\"\n",
    "    return np.exp(x) / np.sum(np.exp(x), axis=0)\n",
    "\n",
    "= e ^ x / (e ^ max(x) * sum(e ^ x / e ^ max(x)))\n",
    "\n",
    "= e ^ x / sum(e ^ x)"
   ]
  },
  {
   "cell_type": "markdown",
   "id": "4c79828e-58e4-4ef9-bb84-da988bbe7867",
   "metadata": {},
   "source": [
    "Een rondje:\n",
    "[1,1,1,1,0,1,1,1,1]\n",
    "[0,1,01,0,1,0,1,0]\n",
    "\n",
    "Een kruisje:\n",
    "[1,0,1,0,1,0,1,0,1]\n",
    "[0,1,0,1,1,1,0,1,0]\n",
    "\n",
    "Uiteindelijk is het middelste vakje, vakje 5 (dus in de list die begint met positie 0 op positie 4), bepalend voor de keuze. Want als: \n",
    "- vakje 5 = zwart = 1 dan is de output een kruisje\n",
    "- vakje 5 = wit = 0 dan is de output een rondje\n",
    "\n",
    "De test kan hier dus op checken, maar wat doe je bij foutieve vakjes? Dan tellen de omliggende vakjes mee om de output te bepalen."
   ]
  },
  {
   "cell_type": "code",
   "execution_count": null,
   "id": "aca2f661-7c08-4376-aef6-2fc9a5cd8c96",
   "metadata": {},
   "outputs": [],
   "source": [
    "# Training en validatieset maken\n",
    "\n",
    "listOfInputs = []\n",
    "\n",
    "inputs = []\n",
    "\n",
    "for\n",
    "\n"
   ]
  },
  {
   "cell_type": "code",
   "execution_count": 4,
   "id": "cf7489e1-8f75-4762-b9cb-375207731701",
   "metadata": {},
   "outputs": [
    {
     "data": {
      "text/plain": [
       "'0b0'"
      ]
     },
     "execution_count": 4,
     "metadata": {},
     "output_type": "execute_result"
    }
   ],
   "source": [
    "bin(0)"
   ]
  },
  {
   "cell_type": "code",
   "execution_count": 5,
   "id": "3555b392-1548-4b53-9daf-46fcddc08fc8",
   "metadata": {},
   "outputs": [
    {
     "data": {
      "text/plain": [
       "'0b111111111'"
      ]
     },
     "execution_count": 5,
     "metadata": {},
     "output_type": "execute_result"
    }
   ],
   "source": [
    "bin(511)"
   ]
  },
  {
   "cell_type": "code",
   "execution_count": 32,
   "id": "d5678a2d-4298-47f1-b5d4-b3fc87bec210",
   "metadata": {},
   "outputs": [],
   "source": [
    "# Model maken\n",
    "\n",
    "# input waarden zijn i en outputwaarden zijn o\n",
    "\n",
    "i1 = 1 \n",
    "i2 = 0\n",
    "i3 = 1\n",
    "i4 = 0\n",
    "i5 = 1\n",
    "i6 = 0\n",
    "i7 = 1\n",
    "i8 = 0\n",
    "i9 = 1\n",
    "\n",
    "w11 = 1\n",
    "w12 = 1\n",
    "w13 = 1\n",
    "w14 = 1\n",
    "w15 = 1\n",
    "w16 = 1\n",
    "w17 = 1\n",
    "w18 = 1\n",
    "w19 = 1\n",
    "\n",
    "w21 = 1\n",
    "w22 = 1\n",
    "w23 = 1\n",
    "w24 = 1\n",
    "w25 = 1\n",
    "w26 = 1\n",
    "w27 = 1\n",
    "w28 = 1\n",
    "w29 = 1\n",
    "\n",
    "b1 = 0\n",
    "b2 = 0\n",
    "\n",
    "\n",
    "o1 = i1*w11 + i2*w12 + i3*w13 + i4*w14 + i5*w15 + i6*w16 + i7*w17 + i8*w18 + i9*w19 + b1\n",
    "\n",
    "o2 = i1*w21 + i2*w22 + i3*w23 + i4*w24 + i5*w25 + i6*w26 + i7*w27 + i8*w28 + i9*w29 + b2\n",
    "\n"
   ]
  },
  {
   "cell_type": "markdown",
   "id": "cc871297-8e43-4df4-8829-e8b54bfa40ed",
   "metadata": {},
   "source": [
    "Bovenstaande code kan je uitwerken in objecten van nodes en links, maar je kan het ook omzetten in objecten van matrixen.\n",
    "\n",
    "Input is dan (1x9) en weight (9x2) "
   ]
  },
  {
   "cell_type": "code",
   "execution_count": 33,
   "id": "0b70facc-1ed5-4705-bc96-f4afefe83ed0",
   "metadata": {},
   "outputs": [
    {
     "name": "stdout",
     "output_type": "stream",
     "text": [
      "5\n",
      "5\n"
     ]
    }
   ],
   "source": [
    "print(o1)\n",
    "print(o2)"
   ]
  },
  {
   "cell_type": "code",
   "execution_count": 15,
   "id": "2eb493b5-99a0-4b06-b714-de95101aa94b",
   "metadata": {},
   "outputs": [
    {
     "name": "stdout",
     "output_type": "stream",
     "text": [
      "Yes, we can multiply them!\n",
      "(0,0)\n",
      "(1,1)\n",
      "(2,2)\n",
      "(3,3)\n",
      "(4,4)\n",
      "(5,5)\n",
      "(6,6)\n",
      "(7,7)\n",
      "(8,8)\n",
      "29\n"
     ]
    }
   ],
   "source": [
    "# matrices manual calculation (no numpy)\n",
    "# mat1: input is a cross\n",
    "# mat2: weights is a guess\n",
    "# mat 3: output 1 without bias\n",
    "# bias = 1 is a guess\n",
    "# output2 is a guess\n",
    "\n",
    "# 1 x 9 is dus 1 rij en 9 kolommen: volgorde is hier belangrijk, je maakt hier zelf afspraken over. Want dan weet je wat je met elkaar vermenigvuldigt.\n",
    "\n",
    "mat1 = {'rows': 1, 'cols': 9, 'data': [1,0,1,0,1,0,1,0,1]}\n",
    "mat2 = {'rows': 9, 'cols': 1, 'data': [1,3,2,4,3,8,4,5,6,]}\n",
    " \n",
    "# Can we multiply them? Check if dimensions satisfy the (M by N) * (N by K) = (M by K) rule:\n",
    " \n",
    "if mat1['cols'] == mat2['rows']:\n",
    "    \n",
    "    print(\"Yes, we can multiply them!\")\n",
    "mat3 = {'rows': 1, 'cols': 1, 'data': [0]}\n",
    " \n",
    "# Define the number of elements of mat3\n",
    "mat3Elements = mat3['rows'] * mat3['cols']\n",
    " \n",
    "# Define the number of multiplications per index of mat3\n",
    "mulPerIndex = mat1['cols'] # or mat2['rows']\n",
    " \n",
    "# We need to touch every element of mat3\n",
    "for i in range(mat3Elements): # i = 0\n",
    "    \n",
    "    # For each mat3 element we need to multiply the col values of mat1 with the row values of mat2\n",
    "    for j in range(mulPerIndex): # j = 0, 1, 2, 3,4\n",
    "    \n",
    "        # These are the col indices of mat1\n",
    "        colIndex = (i // mat2['cols']) * mat1['cols'] + j\n",
    "        \n",
    "        # These are the row indices of mat2\n",
    "        rowIndex = (i % mat2['cols']) + j * mat2['cols']\n",
    "        \n",
    "        # Let's print the indices to see if they match our manual result above\n",
    "        print(f\"({colIndex},{rowIndex})\")\n",
    "    \n",
    "        mat3['data'][i] += mat1['data'][colIndex] * mat2['data'][rowIndex]\n",
    "        \n",
    "bias = 1\n",
    "output1 = mat3[\"data\"][0] + bias\n",
    " \n",
    "# Let's check it\n",
    "print(outputshape)\n",
    "\n",
    "# Same loop for output 2\n",
    "# next step is softmax for output 1 and 2\n",
    "\n",
    "output2 = 29"
   ]
  },
  {
   "cell_type": "code",
   "execution_count": 35,
   "id": "556792bb-fa32-411d-8c04-0e39ba64a8e7",
   "metadata": {},
   "outputs": [
    {
     "name": "stdout",
     "output_type": "stream",
     "text": [
      "8\n"
     ]
    }
   ],
   "source": [
    "print(o3)"
   ]
  },
  {
   "cell_type": "code",
   "execution_count": null,
   "id": "01a43629-7755-468f-abfb-26a45251ae6a",
   "metadata": {},
   "outputs": [],
   "source": [
    "class Node:\n",
    "\n",
    "    \"\"\"\n",
    "    class to simulate a Neuron\n",
    "    \"\"\"\n",
    "\n",
    "    # Constructor\n",
    "    # 'dunder init'\n",
    "    def __init__(self):\n",
    "        self.weightVector = None\n",
    "        self.bias = 0\n",
    "\n",
    "    def initialize(self, nrOfFeatures):\n",
    "        \"\"\"Initialize w and b as zero\"\"\"\n",
    "\n",
    "        # Create initial weight vector for each feature\n",
    "        self.weightVector = np.zeros(nrOfFeatures)\n",
    "\n",
    "        # Initialize bias\n",
    "        self.bias = 0\n",
    "\n",
    "    def predict(self, inputVector):\n",
    "            \"\"\"\n",
    "            Determine outputvalue by multiplying\n",
    "            inputvector with weightvector\n",
    "            HINT: use np.dot()\n",
    "            \"\"\"\n",
    "            activation = np.dot(inputVector, self.weightVector) + self.bias\n",
    "\n",
    "            logging.debug(f\"activation : {activation}\")\n",
    "\n",
    "            return 1 if activation > 0 else 0\n",
    "    \n",
    "    def train(self, X, y, epochs=100, learningRate=0.1):\n",
    "        \"\"\"\n",
    "        Train the perceptron using the inputVector\n",
    "        and target labels\n",
    "        \"\"\"\n",
    "        # Initialize weights and bias\n",
    "        nrOfFeatures = X.shape[1]\n",
    "        self.initialize(nrOfFeatures)\n",
    "\n",
    "        epochs = range(0, epochs)\n",
    "\n",
    "        # for each epoch\n",
    "        for epoch in epochs:\n",
    "            logging.debug(f\"epoch : {epoch}\")\n",
    "\n",
    "            # For each inputVector\n",
    "            for inputVector, label in zip(X, y):\n",
    "                logging.debug(f\"inputVector : {inputVector}\")\n",
    "\n",
    "                # Labeled output\n",
    "                logging.debug(f\"label : {label}\")\n",
    "\n",
    "                # Predict output\n",
    "                prediction = self.predict(inputVector)\n",
    "                logging.debug(f\"prediction : {prediction}\")\n",
    "\n",
    "                # Determine error\n",
    "                error = label - prediction\n",
    "                logging.debug(f\"error : {error}\")\n",
    "\n",
    "                # update weight and b\n",
    "                # de formule is dus weight = weight + error * lr, \n",
    "                # maar de deltaWeight is al het verschil in weight\n",
    "                deltaWeight = inputVector * error * learningRate\n",
    "                self.weightVector += deltaWeight \n",
    "                logging.debug(f\"deltaWeight : {deltaWeight}\")\n",
    "\n",
    "                logging.debug(f\"learningRate : {learningRate}\")\n",
    "                deltaBias = error * learningRate\n",
    "                self.bias += deltaBias\n",
    "                logging.debug(f\"deltaBias : {deltaBias}\")\n",
    "\n",
    "                print()\n"
   ]
  },
  {
   "cell_type": "code",
   "execution_count": null,
   "id": "99993226-8de8-4490-93bf-fc2c9baf38e0",
   "metadata": {},
   "outputs": [],
   "source": [
    "class Link"
   ]
  },
  {
   "cell_type": "code",
   "execution_count": null,
   "id": "0686c2cd-3379-4822-b6ad-4e6c119e09c2",
   "metadata": {},
   "outputs": [],
   "source": []
  },
  {
   "cell_type": "markdown",
   "id": "f7d6af83-8b23-454d-a38b-d819cff31c95",
   "metadata": {},
   "source": [
    "softmax definieren met het euler getal 'e'\n",
    "\n",
    "met e = 2.718281828459045\n",
    "\n",
    "softmax zorgt ervoor dat de output van o1 en o2 in verhouding worden geplaatst, bijvoorbeeld: o1 = 0.4 en o2 = 0.6 maar daarmee is nog geen beslissing genomen. Betekent 0.6 dat het dus een kruisje of rondje is, of liggen de outputs zo dicht bij elkaar dat je geen keuze kunt maken. De interpretatie daarvan is nog aan onszelf. Het neural net maakt daarin geen keuze voor ons. "
   ]
  },
  {
   "cell_type": "code",
   "execution_count": 38,
   "id": "ec51b982-cc55-4b53-ac1b-68b859f69c1f",
   "metadata": {},
   "outputs": [
    {
     "ename": "TypeError",
     "evalue": "'float' object is not iterable",
     "output_type": "error",
     "traceback": [
      "\u001b[0;31m---------------------------------------------------------------------------\u001b[0m",
      "\u001b[0;31mTypeError\u001b[0m                                 Traceback (most recent call last)",
      "Cell \u001b[0;32mIn[38], line 4\u001b[0m\n\u001b[1;32m      1\u001b[0m e \u001b[38;5;241m=\u001b[39m \u001b[38;5;241m2.718281828459045\u001b[39m\n\u001b[1;32m      2\u001b[0m yhat \u001b[38;5;241m=\u001b[39m \u001b[38;5;241m5\u001b[39m\n\u001b[0;32m----> 4\u001b[0m softmax \u001b[38;5;241m=\u001b[39m e \u001b[38;5;241m*\u001b[39m\u001b[38;5;241m*\u001b[39m yhat \u001b[38;5;241m/\u001b[39m \u001b[38;5;28;43msum\u001b[39;49m\u001b[43m(\u001b[49m\u001b[43me\u001b[49m\u001b[43m \u001b[49m\u001b[38;5;241;43m*\u001b[39;49m\u001b[38;5;241;43m*\u001b[39;49m\u001b[43m \u001b[49m\u001b[43myhat\u001b[49m\u001b[43m)\u001b[49m\n",
      "\u001b[0;31mTypeError\u001b[0m: 'float' object is not iterable"
     ]
    }
   ],
   "source": [
    "# add softmax on output 1 and 2\n",
    "\n",
    "e = 2.718281828459045\n",
    "yhat = 5\n",
    "\n",
    "softmax = e ** yhat / sum(e ** yhat)"
   ]
  },
  {
   "cell_type": "code",
   "execution_count": null,
   "id": "6eddb5ee-239f-4da0-b2aa-97524e1af9ab",
   "metadata": {},
   "outputs": [],
   "source": [
    "import numpy as np\n",
    "#Code om 50(of 512) unieke binary lists (van 9 elementen) te genereren (met behulp van np)\n",
    "#https://stackoverflow.com/questions/50144888/generate-unique-random-binary-arrays-in-python\n",
    "parents = []\n",
    "for i in range(50):\n",
    "    unique_found = False\n",
    "    while not unique_found:\n",
    "        candidate_array = np.random.choice([0, 1], size=(9))\n",
    "        if not any((candidate_array == x).all() for x in parents):\n",
    "            unique_found = True\n",
    "    parents.append(candidate_array)"
   ]
  }
 ],
 "metadata": {
  "kernelspec": {
   "display_name": "Python 3 (ipykernel)",
   "language": "python",
   "name": "python3"
  },
  "language_info": {
   "codemirror_mode": {
    "name": "ipython",
    "version": 3
   },
   "file_extension": ".py",
   "mimetype": "text/x-python",
   "name": "python",
   "nbconvert_exporter": "python",
   "pygments_lexer": "ipython3",
   "version": "3.10.10"
  }
 },
 "nbformat": 4,
 "nbformat_minor": 5
}
