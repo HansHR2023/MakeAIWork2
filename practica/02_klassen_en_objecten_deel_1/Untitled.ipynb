{
 "cells": [
  {
   "cell_type": "markdown",
   "id": "37f11463-afd1-47b5-8dc7-61754c104fad",
   "metadata": {},
   "source": [
    "Tetris heeft een aantal vormen.\n",
    "\n",
    "https://tetris.fandom.com/wiki/Category:Tetrominoes"
   ]
  },
  {
   "cell_type": "code",
   "execution_count": 5,
   "id": "bad7eb5c-86e2-4a09-8dbd-a48723fe4533",
   "metadata": {},
   "outputs": [],
   "source": [
    "import numpy as np\n",
    "import matplotlib.pyplot as plt"
   ]
  },
  {
   "cell_type": "code",
   "execution_count": 3,
   "id": "86f89227-8029-407e-a809-08671f6fdb55",
   "metadata": {},
   "outputs": [],
   "source": [
    "shape = np.array([(-1, 0), (-2, 0), (0, 0), (1, 0)])"
   ]
  },
  {
   "cell_type": "code",
   "execution_count": 11,
   "id": "69d4f5ec-8105-431a-a881-5e831b5a3e42",
   "metadata": {},
   "outputs": [],
   "source": [
    "plt.show()"
   ]
  },
  {
   "cell_type": "code",
   "execution_count": 12,
   "id": "612db9ab-c06d-4494-81a5-25a7415345d0",
   "metadata": {},
   "outputs": [
    {
     "data": {
      "text/plain": [
       "array([[-1,  0],\n",
       "       [-2,  0],\n",
       "       [ 0,  0],\n",
       "       [ 1,  0]])"
      ]
     },
     "execution_count": 12,
     "metadata": {},
     "output_type": "execute_result"
    }
   ],
   "source": [
    "shape"
   ]
  },
  {
   "cell_type": "code",
   "execution_count": null,
   "id": "1dccdb2b-bcb4-46c5-be2e-98b513bc807b",
   "metadata": {},
   "outputs": [],
   "source": []
  }
 ],
 "metadata": {
  "kernelspec": {
   "display_name": "Python 3 (ipykernel)",
   "language": "python",
   "name": "python3"
  },
  "language_info": {
   "codemirror_mode": {
    "name": "ipython",
    "version": 3
   },
   "file_extension": ".py",
   "mimetype": "text/x-python",
   "name": "python",
   "nbconvert_exporter": "python",
   "pygments_lexer": "ipython3",
   "version": "3.10.10"
  }
 },
 "nbformat": 4,
 "nbformat_minor": 5
}
