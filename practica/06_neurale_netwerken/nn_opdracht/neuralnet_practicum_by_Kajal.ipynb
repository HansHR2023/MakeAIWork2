{
 "cells": [
  {
   "cell_type": "markdown",
   "id": "701cadee",
   "metadata": {},
   "source": [
    "# Practicum opdracht implementeren neural net"
   ]
  },
  {
   "cell_type": "markdown",
   "id": "267c511a",
   "metadata": {},
   "source": [
    "## Stap 1: definieren van de dataset\n",
    "\n",
    "We werken met een 3x3 rooster waarbinnen elk vakje zwart (1) of wit (0) kan zijn. We kunnen dus beginnen met het diefiniëren van de dataset. Als datatype gebruiken we lists om de roosters en waardes binnen de roosters te implementeren. Bij een 3x3 rooster zou een enkele lijst volstaan, maar voor de volledigheid wordt er gewerkt met een list-of-lists, waarbij elke sub-lijst een horizontale regel in het rooster is. "
   ]
  },
  {
   "cell_type": "code",
   "execution_count": 1,
   "id": "d55e3d7f",
   "metadata": {},
   "outputs": [],
   "source": [
    "import random"
   ]
  },
  {
   "cell_type": "code",
   "execution_count": 2,
   "id": "4693160e",
   "metadata": {},
   "outputs": [],
   "source": [
    "# # Classes\n",
    "\n",
    "# # 3 x 3 matrix\n",
    "\n",
    "# # Een hele cirkel\n",
    "# cirkel = [[1,1,1],\n",
    "#           [1,0,1],\n",
    "#           [1,1,1]]\n",
    "\n",
    "# # Een recht kruis\n",
    "# kruis_1 = [[0,1,0],\n",
    "#            [1,1,1],\n",
    "#            [0,1,0]]\n"
   ]
  },
  {
   "cell_type": "code",
   "execution_count": 3,
   "id": "483384f6-d197-47d9-b0e0-9382fd445695",
   "metadata": {},
   "outputs": [],
   "source": [
    "# matrix = [[1,1,1],\n",
    "#           [1,0,1],\n",
    "#           [1,1,1]]\n",
    "\n",
    "\n",
    "# # def transpose(matrix):\n",
    "# #     transposedMatrix =list(map(list, zip(*matrix)))\n",
    "# #     return transposedMatrix\n",
    "\n",
    "\n",
    "# # print(transpose(matrix))\n",
    "\n",
    "# # Input: 3x3\n",
    "# # Output: # 9 x 1\n",
    "# def flatten(matrix):\n",
    "#     transposedMatrix =list(map(list, zip(*matrix)))\n",
    "#     flatMatrix = [[item for sub_list in transposedMatrix for item in sub_list]]\n",
    "#     return flatMatrix\n",
    "# print(flatten(matrix))\n"
   ]
  },
  {
   "cell_type": "markdown",
   "id": "d0a3f633",
   "metadata": {},
   "source": [
    "<p>\n",
    "    labels staan in een predictionMatrix<br>\n",
    "    waarbij het eerste getal de score op cirkel<br> \n",
    "    en de tweede de score op kruis<br>\n",
    "    2 x 1 matrix<br>\n",
    "    [[scoreCirkel], [scoreKruis]]\n",
    "</p>    "
   ]
  },
  {
   "cell_type": "code",
   "execution_count": 4,
   "id": "841c9de1",
   "metadata": {},
   "outputs": [],
   "source": [
    "# a = random.uniform(0, 1)\n",
    "# b = random.uniform(0, 1)\n",
    "# type((a, b))"
   ]
  },
  {
   "cell_type": "code",
   "execution_count": 5,
   "id": "3c5db9dc-f0db-4862-837e-fc4da872782d",
   "metadata": {},
   "outputs": [],
   "source": [
    "# def initializeBias():\n",
    "#     # Matrixvermenigvuldiging van de getransponeerde platgemaakte inputMatrix\n",
    "#     # en de weightMatrix       \n",
    "#     return random.uniform(0, 1)\n",
    "\n",
    "# # Initializeer bias en weightVector met random numbers tussen 0 en 1\n",
    "\n",
    "\n",
    "# # Input: 3x3\n",
    "# # Output: # 9 x 1\n",
    "# def flatten(inputMatrix):    \n",
    "#     flatMatrix = [item for sub_list in inputMatrix for item in sub_list]\n",
    "#     print(flatMatrix)"
   ]
  },
  {
   "cell_type": "code",
   "execution_count": 6,
   "id": "cda9d7c2",
   "metadata": {},
   "outputs": [
    {
     "ename": "NameError",
     "evalue": "name 'matrix' is not defined",
     "output_type": "error",
     "traceback": [
      "\u001b[0;31m---------------------------------------------------------------------------\u001b[0m",
      "\u001b[0;31mNameError\u001b[0m                                 Traceback (most recent call last)",
      "Cell \u001b[0;32mIn[6], line 27\u001b[0m\n\u001b[1;32m     25\u001b[0m     flatMatrix \u001b[38;5;241m=\u001b[39m [[item \u001b[38;5;28;01mfor\u001b[39;00m sub_list \u001b[38;5;129;01min\u001b[39;00m transposedMatrix \u001b[38;5;28;01mfor\u001b[39;00m item \u001b[38;5;129;01min\u001b[39;00m sub_list]]\n\u001b[1;32m     26\u001b[0m     \u001b[38;5;28;01mreturn\u001b[39;00m flatMatrix\n\u001b[0;32m---> 27\u001b[0m \u001b[38;5;28mprint\u001b[39m(flatten(\u001b[43mmatrix\u001b[49m))\n\u001b[1;32m     30\u001b[0m \u001b[38;5;28;01mdef\u001b[39;00m \u001b[38;5;21minitializeWeightMatrix\u001b[39m(size):\n\u001b[1;32m     31\u001b[0m     \u001b[38;5;66;03m# Matrixvermenigvuldiging van de getransponeerde platgemaakte inputMatrix\u001b[39;00m\n\u001b[1;32m     32\u001b[0m     \u001b[38;5;66;03m# en de weightMatrix       \u001b[39;00m\n\u001b[1;32m     33\u001b[0m     \u001b[38;5;66;03m# size x 1 vector\u001b[39;00m\n\u001b[1;32m     34\u001b[0m     \u001b[38;5;66;03m#size = len(flatMatrix)\u001b[39;00m\n\u001b[1;32m     35\u001b[0m     size \u001b[38;5;241m=\u001b[39m \u001b[38;5;241m9\u001b[39m\n",
      "\u001b[0;31mNameError\u001b[0m: name 'matrix' is not defined"
     ]
    }
   ],
   "source": [
    "def initializeBias():\n",
    "    # Matrixvermenigvuldiging van de getransponeerde platgemaakte inputMatrix\n",
    "    # en de weightMatrix       \n",
    "    return random.uniform(0, 1)\n",
    "\n",
    "# Initializeer bias en weightVector met random numbers tussen 0 en 1\n",
    "\n",
    "# def transpose(matrix):\n",
    "#     transposedMatrix = [[flatMatrix[j][i]  for j in range(len(flatMatrix))] for i in range(len(flatMatrix[0]))]\n",
    "#     return transposedMatrix\n",
    "\n",
    "\n",
    "# def transpose(matrix):\n",
    "#     transposedMatrix =list(map(list, zip(*matrix)))\n",
    "#     return transposedMatrix\n",
    "\n",
    "# # Input: 3x3\n",
    "# # Output: # 9 x 1\n",
    "# def flatten(matrix):\n",
    "    \n",
    "#     flatMatrix = [item for sub_list in transposedMatrix for item in sub_list]\n",
    "#     return flatMatrix\n",
    "def flatten(matrix):\n",
    "    transposedMatrix = list(map(list, zip(*matrix)))\n",
    "    flatMatrix = [[item for sub_list in transposedMatrix for item in sub_list]]\n",
    "    return flatMatrix\n",
    "print(flatten(matrix))\n",
    "\n",
    "\n",
    "def initializeWeightMatrix(size):\n",
    "    # Matrixvermenigvuldiging van de getransponeerde platgemaakte inputMatrix\n",
    "    # en de weightMatrix       \n",
    "    # size x 1 vector\n",
    "    #size = len(flatMatrix)\n",
    "    size = 9\n",
    "    return [[round(random.uniform(0, 1), 2)] for i in range(size)]\n",
    "\n",
    "\n",
    "# Output: enkelwaardig resultaat\n",
    "# gewogen som \n",
    "def multiply(flatMatrix, weightMatrix):\n",
    "    outputMatrix = [[sum(a*b for a,b in zip(A_row, B_col)) for B_col in zip(*weightMatrix)] \n",
    "             for A_row in flatMatrix]\n",
    "    return outputMatrix\n",
    "   # return weightedSum\n",
    "    \n",
    "def outputBefore(outputMatrix, bias):\n",
    "    print(outputMatrix)\n",
    "    outputBeforeSoftmax = outputMatrix[0][0] + bias\n",
    "    return outputBeforeSoftmax \n",
    "    \n",
    "\n",
    "# Input: 3x3 matrix\n",
    "# Output: 2x1 matrix\n",
    "def classify(inputMatrix):\n",
    "        \n",
    "    # Plat maken van de inputMatrix\n",
    "    # 3x3 -> 1*9\n",
    "    flatMatrix = flatten(inputMatrix)\n",
    "    \n",
    "    # Transponeren van de inputMatrix\n",
    "    #transposedMatrix = transpose(flatMatrix)    \n",
    "    predictionMatrix = multiply(flatMatrix, weightMatrix)\n",
    "    outputmat = outputBefore(predictionMatrix, bias)\n",
    "    \n",
    "    return outputmat\n"
   ]
  },
  {
   "cell_type": "code",
   "execution_count": null,
   "id": "a98b89dd",
   "metadata": {},
   "outputs": [],
   "source": []
  },
  {
   "cell_type": "code",
   "execution_count": null,
   "id": "233f7ab6",
   "metadata": {},
   "outputs": [],
   "source": [
    "# inputVector\n",
    "test_circle = [\n",
    "    [1,1,1],\n",
    "    [1,0,1],\n",
    "    [1,1,1]\n",
    "]\n",
    "\n",
    "bias = initializeBias()\n",
    "print(f\"bias : {bias}\")\n",
    "\n",
    "# weightMatrix with size of flattened inputVector\n",
    "size = 9\n",
    "\n",
    "#len(test_circle) * len(test_circle[0])\n",
    "weightMatrix = initializeWeightMatrix(size)\n",
    "print(f\"weightMatrix : {weightMatrix}\")\n",
    "\n",
    "#functie geeft 2x1 terug en accepteert 3x3 matrix\n",
    "classify(test_circle)"
   ]
  },
  {
   "cell_type": "code",
   "execution_count": null,
   "id": "6abe4640-ecc9-452f-86ed-579c600a4c5d",
   "metadata": {},
   "outputs": [],
   "source": []
  },
  {
   "cell_type": "code",
   "execution_count": null,
   "id": "1804f75f-2140-4531-8848-a97a3e82e4d5",
   "metadata": {},
   "outputs": [],
   "source": []
  },
  {
   "cell_type": "code",
   "execution_count": null,
   "id": "26098f3e-cc5f-4309-beb0-0007d699451c",
   "metadata": {},
   "outputs": [],
   "source": []
  },
  {
   "cell_type": "code",
   "execution_count": null,
   "id": "e1db9111-4997-4a1f-8f25-1b53087fa949",
   "metadata": {},
   "outputs": [],
   "source": []
  }
 ],
 "metadata": {
  "kernelspec": {
   "display_name": "Python 3 (ipykernel)",
   "language": "python",
   "name": "python3"
  },
  "language_info": {
   "codemirror_mode": {
    "name": "ipython",
    "version": 3
   },
   "file_extension": ".py",
   "mimetype": "text/x-python",
   "name": "python",
   "nbconvert_exporter": "python",
   "pygments_lexer": "ipython3",
   "version": "3.10.10"
  }
 },
 "nbformat": 4,
 "nbformat_minor": 5
}
