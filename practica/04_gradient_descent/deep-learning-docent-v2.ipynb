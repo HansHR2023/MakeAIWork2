{
 "cells": [
  {
   "cell_type": "markdown",
   "id": "783305be-8517-4058-a458-23956ad0be80",
   "metadata": {
    "tags": []
   },
   "source": [
    "### Imports"
   ]
  },
  {
   "cell_type": "code",
   "execution_count": 1,
   "id": "7ad7ed7f-ad3f-46cd-9b05-b424251cf191",
   "metadata": {
    "tags": []
   },
   "outputs": [],
   "source": [
    "# !pip3 install ipywidgets\n",
    "# !pip3 install matplotlib"
   ]
  },
  {
   "cell_type": "code",
   "execution_count": 1,
   "id": "392d5d78-a879-492f-ab43-d12b79c0af6c",
   "metadata": {
    "tags": []
   },
   "outputs": [],
   "source": [
    "from ipywidgets import interact\n",
    "import matplotlib.pyplot as plt\n",
    "import random as rnd\n",
    "import math\n",
    "import time"
   ]
  },
  {
   "cell_type": "markdown",
   "id": "e2eb9983-c570-4454-8195-6c64977c659c",
   "metadata": {
    "tags": []
   },
   "source": [
    "### Bronnen"
   ]
  },
  {
   "cell_type": "markdown",
   "id": "45f3a8dc-4d1a-46aa-b4e9-89c24cfb16f0",
   "metadata": {},
   "source": [
    "**Fast.ai**\n",
    "\n",
    "+ [Practical Deep Learning for Coders](https://course.fast.ai/)\n",
    "+ [Neural net foundations](https://course.fast.ai/Lessons/lesson3.html)\n",
    "\n",
    "**CodingTrain**:\n",
    "\n",
    "+ [Linear Regression with Gradient Descent](https://www.youtube.com/watch?v=L-Lsfu4ab74)\n",
    "+ [Mathematics of Gradient Descent](https://www.youtube.com/watch?v=jc2IthslyzM)"
   ]
  },
  {
   "cell_type": "markdown",
   "id": "d2eebb08-e24b-4f99-a22b-2ae89d0ce43f",
   "metadata": {
    "tags": []
   },
   "source": [
    "# Deep Learning"
   ]
  },
  {
   "cell_type": "markdown",
   "id": "7336d81e-3fbe-405b-8924-5fb9d995dbc1",
   "metadata": {
    "tags": []
   },
   "source": [
    "### Preparation"
   ]
  },
  {
   "cell_type": "code",
   "execution_count": 4,
   "id": "276b49e5-4e09-47c1-bc79-5819674625ab",
   "metadata": {},
   "outputs": [],
   "source": [
    "#------------------------------------------\n",
    "\n",
    "def preparePlot(t):\n",
    "    \n",
    "    fig, ax = plt.subplots()\n",
    "    ax.set(xlim=[-10, 10], ylim=[-50, 400], xlabel='x', ylabel='y', title=t)\n",
    "\n",
    "#------------------------------------------\n",
    "\n",
    "def plotCurve(x, y, scatter):\n",
    "\n",
    "    if scatter:\n",
    "        \n",
    "        plt.scatter(x, y)\n",
    "        \n",
    "    else:\n",
    "        \n",
    "        plt.plot(x, y, 'red')\n",
    "\n",
    "#------------------------------------------\n",
    "\n",
    "def showPlot():\n",
    "    \n",
    "    plt.show()\n",
    "\n",
    "#------------------------------------------"
   ]
  },
  {
   "cell_type": "code",
   "execution_count": 5,
   "id": "5aa5ca0e-99ce-4a7a-a222-6e2277b280af",
   "metadata": {},
   "outputs": [
    {
     "name": "stdout",
     "output_type": "stream",
     "text": [
      "[-10, -9, -8, -7, -6, -5, -4, -3, -2, -1, 0, 1, 2, 3, 4, 5, 6, 7, 8, 9, 10]\n"
     ]
    }
   ],
   "source": [
    "x = [x for x in range(-10, 11, 1)]\n",
    "\n",
    "print(x)"
   ]
  },
  {
   "cell_type": "code",
   "execution_count": 8,
   "id": "2f91d22a-57cf-463f-b6e6-9a35e655f0d2",
   "metadata": {},
   "outputs": [
    {
     "name": "stdout",
     "output_type": "stream",
     "text": [
      "[160, 125, 94, 67, 44, 25, 10, -1, -8, -11, -10, -5, 4, 17, 34, 55, 80, 109, 142, 179, 220]\n"
     ]
    }
   ],
   "source": [
    "# The answer to everything\n",
    "rnd.seed(42)\n",
    "\n",
    "a = 2\n",
    "b = 3\n",
    "c = -10\n",
    "\n",
    "# Prepare random data\n",
    "y = [a * x**2 + b * x + c for x in x]\n",
    "\n",
    "# Mean\n",
    "mu = 5\n",
    "\n",
    "# Define standard deviation (spread)\n",
    "sigma = 20\n",
    "\n",
    "# Prepare random data\n",
    "yNoise = [a * x**2 + b * x + c + rnd.gauss(mu, sigma) for x in x]\n",
    "\n",
    "print(y)"
   ]
  },
  {
   "cell_type": "code",
   "execution_count": 7,
   "id": "4647d61c-33c8-4edc-b356-f57dc689aa76",
   "metadata": {},
   "outputs": [
    {
     "data": {
      "image/png": "[encoded data removed]",
      "text/plain": [
       "<Figure size 640x480 with 1 Axes>"
      ]
     },
     "metadata": {},
     "output_type": "display_data"
    }
   ],
   "source": [
    "preparePlot(\"Parabool\")\n",
    "plotCurve(x,y, False)\n",
    "plotCurve(x,yNoise, True)\n",
    "showPlot()"
   ]
  },
  {
   "cell_type": "markdown",
   "id": "1421b00c-3903-426c-803e-e8c4e34b48d3",
   "metadata": {
    "tags": []
   },
   "source": [
    "## Doel: best fit maken"
   ]
  },
  {
   "cell_type": "markdown",
   "id": "4100e5ee-acbe-4f07-9ba1-307a8d64f379",
   "metadata": {
    "tags": []
   },
   "source": [
    "### ReLU: Rectified Linear Unit"
   ]
  },
  {
   "cell_type": "code",
   "execution_count": 9,
   "id": "1dcf2502-27de-4664-866c-42ac0b2e4344",
   "metadata": {},
   "outputs": [],
   "source": [
    "#------------------------------------------\n",
    "\n",
    "def relu(w, b, x):\n",
    "    # y is hier weer yhat of fit, de voorspelde y waarde\n",
    "    y = w * x + b\n",
    "    \n",
    "    if y > 0:\n",
    "        \n",
    "        \n",
    "        return y\n",
    "    \n",
    "    else:\n",
    "        \n",
    "        return 0\n",
    "\n",
    "#------------------------------------------"
   ]
  },
  {
   "cell_type": "code",
   "execution_count": 10,
   "id": "93dbeb1e-71f8-405a-8d80-6c3b65abee19",
   "metadata": {},
   "outputs": [
    {
     "data": {
      "application/vnd.jupyter.widget-view+json": {
       "model_id": "dc07c6d9243b494fbdca525d44f5ec7b",
       "version_major": 2,
       "version_minor": 0
      },
      "text/plain": [
       "interactive(children=(FloatSlider(value=0.0, description='w', max=30.0, min=-30.0), FloatSlider(value=0.0, des…"
      ]
     },
     "metadata": {},
     "output_type": "display_data"
    },
    {
     "data": {
      "text/plain": [
       "<function __main__.manualRelu(w, b)>"
      ]
     },
     "execution_count": 10,
     "metadata": {},
     "output_type": "execute_result"
    }
   ],
   "source": [
    "#------------------------------------------\n",
    "\n",
    "def manualRelu(w, b):\n",
    "    \n",
    "    rlu = [relu(w, b, x) for x in x]\n",
    "    \n",
    "    preparePlot(\"ReLU\")\n",
    "    \n",
    "    plotCurve(x, rlu, False)\n",
    "\n",
    "#------------------------------------------\n",
    "\n",
    "interact(manualRelu, w=(-30,30,0.1), b=(-100,100,0.1))\n",
    "\n",
    "#------------------------------------------"
   ]
  },
  {
   "cell_type": "markdown",
   "id": "e875413a-ee27-4ef3-b317-f3bf1df27441",
   "metadata": {
    "tags": []
   },
   "source": [
    "### Handmatige parabool fit met ReLU"
   ]
  },
  {
   "cell_type": "code",
   "execution_count": 13,
   "id": "e42ed231-5941-48ad-8e64-67a9a22ab1f7",
   "metadata": {},
   "outputs": [
    {
     "data": {
      "application/vnd.jupyter.widget-view+json": {
       "model_id": "f4ad00fdd2d64aa8bb93041764dba842",
       "version_major": 2,
       "version_minor": 0
      },
      "text/plain": [
       "interactive(children=(FloatSlider(value=0.0, description='w1', max=50.0, min=-50.0, step=0.01), FloatSlider(va…"
      ]
     },
     "metadata": {},
     "output_type": "display_data"
    },
    {
     "data": {
      "text/plain": [
       "<function __main__.parabolaFit(w1, b1, w2, b2)>"
      ]
     },
     "execution_count": 13,
     "metadata": {},
     "output_type": "execute_result"
    }
   ],
   "source": [
    "#------------------------------------------\n",
    "# yNoise is de echte waarde uit de dataset en fit is y voorspeld (yhat)\n",
    "def mse(fit):\n",
    "    \n",
    "    sse = 0\n",
    "    \n",
    "    # Sum of squared errors\n",
    "    for i in range(0, len(yNoise)):\n",
    "        \n",
    "        # Error = actual - predicted\n",
    "        err = yNoise[i] - fit[i]\n",
    "        sse += (err**2)\n",
    "    \n",
    "    # Mean squared error\n",
    "    return sse / len(yNoise)\n",
    "\n",
    "#------------------------------------------\n",
    "\n",
    "def parabolaFit(w1, b1, w2, b2):\n",
    "    \n",
    "    fit = [relu(w1, b1, x) + relu(w2, b2, x) for x in x]\n",
    "    \n",
    "    preparePlot(\"Som van 2 ReLUs\")\n",
    "    \n",
    "    plotCurve(x, fit, False)\n",
    "    plotCurve(x, yNoise, True)\n",
    "    \n",
    "    showPlot()\n",
    "    \n",
    "    # Our indicator\n",
    "    print(mse(fit))\n",
    "\n",
    "#------------------------------------------\n",
    "    \n",
    "interact(parabolaFit, w1=(-50,50,0.01), b1=(-100,100,0.01), w2=(-50,50,0.01), b2=(-100,100,0.01))\n",
    "\n",
    "#------------------------------------------\n",
    "\n",
    "# je kan met mse tot onder de 225 komen "
   ]
  },
  {
   "cell_type": "markdown",
   "id": "1e292586-9762-4918-a02a-2c8bf1112451",
   "metadata": {
    "tags": []
   },
   "source": [
    "### Gradient descent"
   ]
  },
  {
   "cell_type": "code",
   "execution_count": 24,
   "id": "aaf91953-511e-43a6-b997-7a3a6464d4bc",
   "metadata": {},
   "outputs": [
    {
     "name": "stdout",
     "output_type": "stream",
     "text": [
      "initial cost:  9702.1711632593\n",
      "w1Fit:  -23.42622842804428 b1Fit:  -84.84236177143718 w2Fit:  31.62888701859028 b2Fit:  -91.70749298879592\n",
      "final cost:  214.50155795487214\n"
     ]
    },
    {
     "data": {
      "image/png": "[encoded data removed]",
      "text/plain": [
       "<Figure size 640x480 with 1 Axes>"
      ]
     },
     "metadata": {},
     "output_type": "display_data"
    }
   ],
   "source": [
    "#------------------------------------------\n",
    "\n",
    "# Learning iterations\n",
    "# epochs = 100000\n",
    "epochs = 51000\n",
    "\n",
    "# Learning rate\n",
    "learningRate = 1e-5\n",
    "\n",
    "#------------------------------------------\n",
    "\n",
    "# Initial values (\"guess\")\n",
    "w1Fit = 0.0\n",
    "b1Fit = 0.0\n",
    "w2Fit = 0.0\n",
    "b2Fit = 0.0\n",
    "\n",
    "# Epochs counter\n",
    "epoch = 0\n",
    "\n",
    "#------------------------------------------\n",
    "\n",
    "def cost(w1, b1, w2, b2):\n",
    "    \n",
    "    sse = 0\n",
    "    \n",
    "    # Sum of squared errors\n",
    "    for i in range(0, len(yNoise)):\n",
    "        \n",
    "        # Use yhat = ReLU(w1 * x + b1) + ReLU(w2 * x + b2) + \n",
    "        yhat = relu(w1, b1, x[i]) + relu(w2, b2, x[i])\n",
    "        \n",
    "        # Use error = y - yhat\n",
    "        err = yNoise[i] - yhat\n",
    "        \n",
    "        sse += (err**2)\n",
    "    \n",
    "    # Mean squared error\n",
    "    return sse / len(yNoise)\n",
    "\n",
    "#------------------------------------------\n",
    "\n",
    "def gradientDescent(w1, b1, w2, b2):\n",
    "    \n",
    "    # The change of our weights and biases\n",
    "    dw1 = 0\n",
    "    db1 = 0\n",
    "    \n",
    "    dw2 = 0\n",
    "    db2 = 0\n",
    "    \n",
    "    # Stochastic gradient descent\n",
    "    for i in range(0, len(yNoise)):\n",
    "    \n",
    "        # Use yhat = ReLU(w1 * x + b1) + ReLU(w2 * x + b2)\n",
    "        yhat = relu(w1, b1, x[i]) + relu(w2, b2, x[i])\n",
    "        \n",
    "        # Use error = y - yhat\n",
    "        err = yNoise[i] - yhat\n",
    "\n",
    "        # Gradient descent steps\n",
    "        dw1 -= 2 * err * x[i]\n",
    "        db1 -= 2 * err\n",
    "        \n",
    "        # Adjust with learn rate\n",
    "        w1 -= learningRate * dw1\n",
    "        b1 -= learningRate * db1\n",
    "        \n",
    "        # Use yhat = ReLU(w1 * x + b1) + ReLU(w2 * x + b2)\n",
    "        yhat = relu(w1, b1, x[i]) + relu(w2, b2, x[i])\n",
    "        \n",
    "        # Use error = y - yhat\n",
    "        err = yNoise[i] - yhat\n",
    "        \n",
    "        dw2 -= 2 * err * x[i]\n",
    "        db2 -= 2 * err\n",
    "        \n",
    "        # Adjust with learn rate\n",
    "        w2 -= learningRate * dw2\n",
    "        b2 -= learningRate * db2\n",
    "    \n",
    "    return w1, b1, w2, b2\n",
    "\n",
    "#------------------------------------------\n",
    "\n",
    "def plotFit(w1, b1, w2, b2):\n",
    "    \n",
    "    fit = [relu(w1, b1, x) + relu(w2, b2, x) for x in x]\n",
    "    \n",
    "    preparePlot(\"Som van 2 ReLUs\")\n",
    "    \n",
    "    plotCurve(x, fit, False)\n",
    "    plotCurve(x, yNoise, True)\n",
    "    \n",
    "    showPlot()\n",
    "\n",
    "#------------------------------------------\n",
    "\n",
    "# Inital cost\n",
    "mse = cost(w1Fit, b1Fit, w2Fit, b2Fit)\n",
    "\n",
    "print(\"initial cost: \", cost(w1Fit, b1Fit, w2Fit, b2Fit))\n",
    "\n",
    "#------------------------------------------\n",
    "\n",
    "while epoch < epochs:\n",
    "    \n",
    "    # print(\"epoch: \", epoch)\n",
    "    \n",
    "    \n",
    "    w1Fit, b1Fit, w2Fit, b2Fit = gradientDescent(w1Fit, b1Fit, w2Fit, b2Fit)\n",
    "    \n",
    "    # print(\"cost: \", cost(w1Fit, b1Fit, w2Fit, b2Fit))\n",
    "    \n",
    "    epoch += 1\n",
    "    \n",
    "#------------------------------------------\n",
    "\n",
    "print(\"w1Fit: \", w1Fit, \"b1Fit: \", b1Fit, \"w2Fit: \", w2Fit, \"b2Fit: \", b2Fit)\n",
    "print(\"final cost: \", cost(w1Fit, b1Fit, w2Fit, b2Fit))\n",
    "\n",
    "plotFit(w1Fit, b1Fit, w2Fit, b2Fit)\n",
    "\n"
   ]
  },
  {
   "cell_type": "code",
   "execution_count": null,
   "id": "da94df2b-15a8-4f54-8a5c-19045f66024e",
   "metadata": {},
   "outputs": [],
   "source": []
  }
 ],
 "metadata": {
  "kernelspec": {
   "display_name": "Python 3 (ipykernel)",
   "language": "python",
   "name": "python3"
  },
  "language_info": {
   "codemirror_mode": {
    "name": "ipython",
    "version": 3
   },
   "file_extension": ".py",
   "mimetype": "text/x-python",
   "name": "python",
   "nbconvert_exporter": "python",
   "pygments_lexer": "ipython3",
   "version": "3.10.10"
  }
 },
 "nbformat": 4,
 "nbformat_minor": 5
}
